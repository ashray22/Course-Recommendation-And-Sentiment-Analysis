{
 "cells": [
  {
   "cell_type": "code",
   "execution_count": 1,
   "id": "9a88d390",
   "metadata": {},
   "outputs": [],
   "source": [
    "import os\n",
    "import numpy as np\n",
    "import pandas as pd\n",
    "# #import seaborn as sns\n",
    "# import matplotlib.pyplot as plt\n",
    "from nltk.corpus import stopwords\n",
    "from nltk.stem import WordNetLemmatizer\n",
    "from nltk.tokenize import word_tokenize\n",
    "from wordcloud import WordCloud,STOPWORDS\n",
    "from bs4 import BeautifulSoup\n",
    "import re,string,unicodedata\n",
    "\n",
    "from sklearn.feature_extraction.text import CountVectorizer, TfidfVectorizer\n",
    "from sklearn.linear_model import LogisticRegression\n",
    "from sklearn.svm import LinearSVC\n",
    "from sklearn.ensemble import GradientBoostingClassifier\n",
    "from sklearn.naive_bayes import GaussianNB, MultinomialNB\n",
    "from sklearn.ensemble import RandomForestClassifier\n",
    "from sklearn.tree import DecisionTreeClassifier\n",
    "from sklearn.preprocessing import LabelEncoder\n",
    "from sklearn.model_selection import train_test_split\n",
    "from sklearn.metrics import classification_report, accuracy_score, confusion_matrix, plot_confusion_matrix, plot_roc_curve, plot_precision_recall_curve\n",
    "from xgboost.sklearn import XGBClassifier"
   ]
  },
  {
   "cell_type": "code",
   "execution_count": 2,
   "id": "d25f64db",
   "metadata": {},
   "outputs": [],
   "source": [
    "sc = pd.read_csv(r'C:\\Users\\raksh\\Desktop\\Social media\\sc.csv')\n",
    "li = pd.read_csv(r'C:\\Users\\raksh\\Desktop\\Social media\\li.csv')\n",
    "ig = pd.read_csv(r'C:\\Users\\raksh\\Desktop\\Social media\\ig.csv')\n",
    "tw = pd.read_csv(r'C:\\Users\\raksh\\Desktop\\Social media\\tw.csv')"
   ]
  },
  {
   "cell_type": "code",
   "execution_count": 3,
   "id": "6468e5cd",
   "metadata": {},
   "outputs": [],
   "source": [
    "pdList = [sc,li,ig,tw]  # List of your dataframes\n",
    "df = pd.concat(pdList)"
   ]
  },
  {
   "cell_type": "code",
   "execution_count": 4,
   "id": "c46b1071",
   "metadata": {},
   "outputs": [
    {
     "data": {
      "text/html": [
       "<div>\n",
       "<style scoped>\n",
       "    .dataframe tbody tr th:only-of-type {\n",
       "        vertical-align: middle;\n",
       "    }\n",
       "\n",
       "    .dataframe tbody tr th {\n",
       "        vertical-align: top;\n",
       "    }\n",
       "\n",
       "    .dataframe thead th {\n",
       "        text-align: right;\n",
       "    }\n",
       "</style>\n",
       "<table border=\"1\" class=\"dataframe\">\n",
       "  <thead>\n",
       "    <tr style=\"text-align: right;\">\n",
       "      <th></th>\n",
       "      <th>content</th>\n",
       "      <th>score</th>\n",
       "      <th>at</th>\n",
       "    </tr>\n",
       "  </thead>\n",
       "  <tbody>\n",
       "    <tr>\n",
       "      <th>0</th>\n",
       "      <td>Snapscore is not updating properly and other b...</td>\n",
       "      <td>1</td>\n",
       "      <td>2022-09-13 18:43:11</td>\n",
       "    </tr>\n",
       "    <tr>\n",
       "      <th>1</th>\n",
       "      <td>Not getting notifications even though notifica...</td>\n",
       "      <td>1</td>\n",
       "      <td>2022-09-13 18:39:43</td>\n",
       "    </tr>\n",
       "    <tr>\n",
       "      <th>2</th>\n",
       "      <td>It's super fun app...!!! Can you please upload...</td>\n",
       "      <td>5</td>\n",
       "      <td>2022-09-13 18:30:50</td>\n",
       "    </tr>\n",
       "    <tr>\n",
       "      <th>3</th>\n",
       "      <td>- Not consumer friendly. Ads and unskippable a...</td>\n",
       "      <td>1</td>\n",
       "      <td>2022-09-13 18:23:26</td>\n",
       "    </tr>\n",
       "    <tr>\n",
       "      <th>4</th>\n",
       "      <td>I only want notifications for messages from fr...</td>\n",
       "      <td>1</td>\n",
       "      <td>2022-09-13 18:08:44</td>\n",
       "    </tr>\n",
       "    <tr>\n",
       "      <th>...</th>\n",
       "      <td>...</td>\n",
       "      <td>...</td>\n",
       "      <td>...</td>\n",
       "    </tr>\n",
       "    <tr>\n",
       "      <th>19995</th>\n",
       "      <td>Overall app experience is good but for devices...</td>\n",
       "      <td>4</td>\n",
       "      <td>2018-09-13 19:02:09</td>\n",
       "    </tr>\n",
       "    <tr>\n",
       "      <th>19996</th>\n",
       "      <td>I think there is a bug or maybe its just me. B...</td>\n",
       "      <td>3</td>\n",
       "      <td>2018-09-13 08:17:48</td>\n",
       "    </tr>\n",
       "    <tr>\n",
       "      <th>19997</th>\n",
       "      <td>Great app, love the updates. Only problem is t...</td>\n",
       "      <td>5</td>\n",
       "      <td>2018-09-13 06:57:42</td>\n",
       "    </tr>\n",
       "    <tr>\n",
       "      <th>19998</th>\n",
       "      <td>Ever since the last update, pictures don't loa...</td>\n",
       "      <td>3</td>\n",
       "      <td>2018-09-12 22:25:00</td>\n",
       "    </tr>\n",
       "    <tr>\n",
       "      <th>19999</th>\n",
       "      <td>Much better than FB. Where fb is (at least in ...</td>\n",
       "      <td>5</td>\n",
       "      <td>2018-09-12 17:29:40</td>\n",
       "    </tr>\n",
       "  </tbody>\n",
       "</table>\n",
       "<p>80000 rows × 3 columns</p>\n",
       "</div>"
      ],
      "text/plain": [
       "                                                 content  score  \\\n",
       "0      Snapscore is not updating properly and other b...      1   \n",
       "1      Not getting notifications even though notifica...      1   \n",
       "2      It's super fun app...!!! Can you please upload...      5   \n",
       "3      - Not consumer friendly. Ads and unskippable a...      1   \n",
       "4      I only want notifications for messages from fr...      1   \n",
       "...                                                  ...    ...   \n",
       "19995  Overall app experience is good but for devices...      4   \n",
       "19996  I think there is a bug or maybe its just me. B...      3   \n",
       "19997  Great app, love the updates. Only problem is t...      5   \n",
       "19998  Ever since the last update, pictures don't loa...      3   \n",
       "19999  Much better than FB. Where fb is (at least in ...      5   \n",
       "\n",
       "                        at  \n",
       "0      2022-09-13 18:43:11  \n",
       "1      2022-09-13 18:39:43  \n",
       "2      2022-09-13 18:30:50  \n",
       "3      2022-09-13 18:23:26  \n",
       "4      2022-09-13 18:08:44  \n",
       "...                    ...  \n",
       "19995  2018-09-13 19:02:09  \n",
       "19996  2018-09-13 08:17:48  \n",
       "19997  2018-09-13 06:57:42  \n",
       "19998  2018-09-12 22:25:00  \n",
       "19999  2018-09-12 17:29:40  \n",
       "\n",
       "[80000 rows x 3 columns]"
      ]
     },
     "execution_count": 4,
     "metadata": {},
     "output_type": "execute_result"
    }
   ],
   "source": [
    "df"
   ]
  },
  {
   "cell_type": "code",
   "execution_count": 5,
   "id": "52712287",
   "metadata": {},
   "outputs": [],
   "source": [
    "df.to_csv(r'C:\\Users\\raksh\\Downloads\\Compressed\\Final_Project-20221204T140354Z-001\\Final_Project\\data\\raw_data.csv',index=False)\n"
   ]
  },
  {
   "cell_type": "code",
   "execution_count": null,
   "id": "a9ee9c9d",
   "metadata": {},
   "outputs": [],
   "source": []
  }
 ],
 "metadata": {
  "kernelspec": {
   "display_name": "Python 3.8.8 ('myenv': venv)",
   "language": "python",
   "name": "python3"
  },
  "language_info": {
   "codemirror_mode": {
    "name": "ipython",
    "version": 3
   },
   "file_extension": ".py",
   "mimetype": "text/x-python",
   "name": "python",
   "nbconvert_exporter": "python",
   "pygments_lexer": "ipython3",
   "version": "3.8.8"
  },
  "vscode": {
   "interpreter": {
    "hash": "254bbd7f73e4116fdfdf58991b82fcb08cd66ef9e0bc667aca1fa12c11178538"
   }
  }
 },
 "nbformat": 4,
 "nbformat_minor": 5
}
